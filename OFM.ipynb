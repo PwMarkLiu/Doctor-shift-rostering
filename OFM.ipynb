{
 "cells": [
  {
   "cell_type": "code",
   "execution_count": 7,
   "metadata": {},
   "outputs": [],
   "source": [
    "from datetime import date, timedelta\n",
    "import pandas as pd\n",
    "import numpy as np\n",
    "\n",
    "weekday_dict = {0:'monday', 1:'tuesday', 2:'wednesday', 3:'thursday', 4:'friday', 5:'saturday', 6:'sunday'}\n",
    "weekday_date = {'monday':[],'tuesday':[],'wednesday':[],'thursday':[],'friday':[],'saturday':[],'sunday':[]}\n",
    "\n",
    "\n",
    "\n",
    "def weekdays (year, month):\n",
    "    d = date(year, month, 1) #date_of_first_day = 1\n",
    "    while d.month == month:\n",
    "        day_of_week = weekday_dict[d.weekday()]\n",
    "        weekday_date[day_of_week].append(d)\n",
    "        d += timedelta(days = 1)\n",
    "    return weekday_date\n",
    "\n",
    "weekdays(2020,6)\n",
    "all_dates = []\n",
    "for key in weekday_date:\n",
    "    for i in weekday_date[key]:\n",
    "        all_dates.append(i)\n",
    "all_dates.sort()"
   ]
  },
  {
   "cell_type": "code",
   "execution_count": 8,
   "metadata": {},
   "outputs": [
    {
     "name": "stdout",
     "output_type": "stream",
     "text": [
      "[datetime.date(2020, 6, 3)]\n"
     ]
    }
   ],
   "source": [
    "holidays = []\n",
    "def create_holidays(year, month, day):\n",
    "    d = date(year, month, day)\n",
    "    holidays.append(d)\n",
    "    return holidays\n",
    "create_holidays(2020,6,3)\n",
    "print(holidays)"
   ]
  },
  {
   "cell_type": "code",
   "execution_count": 9,
   "metadata": {},
   "outputs": [
    {
     "name": "stdout",
     "output_type": "stream",
     "text": [
      "The OFM dates are:\n",
      "2020-06-01\n",
      "2020-06-04\n",
      "2020-06-05\n",
      "2020-06-08\n",
      "2020-06-10\n",
      "2020-06-11\n",
      "2020-06-12\n",
      "2020-06-15\n",
      "2020-06-17\n",
      "2020-06-18\n",
      "2020-06-19\n",
      "2020-06-22\n",
      "2020-06-24\n",
      "2020-06-25\n",
      "2020-06-26\n",
      "2020-06-29\n"
     ]
    }
   ],
   "source": [
    "def remove_dates(all_dates, unwanted, holidays): #unwanted = list-of-list of unwanted weekdays\n",
    "#     OFM = all_dates- sundays - saturdays - tuesdays \n",
    "    OFM = all_dates\n",
    "    for weekday in unwanted:\n",
    "        OFM = [date for date in OFM if date not in weekday_date[weekday]]\n",
    "    OFM = [date for date in OFM if date not in holidays]\n",
    "    return OFM\n",
    "\n",
    "unwanted_days = ['sunday','saturday','tuesday']\n",
    "OFM_dates = remove_dates(all_dates, unwanted_days, holidays)\n",
    "print('The OFM dates are:')\n",
    "for i in OFM_dates:\n",
    "    print(i)"
   ]
  },
  {
   "cell_type": "code",
   "execution_count": 10,
   "metadata": {},
   "outputs": [
    {
     "name": "stdout",
     "output_type": "stream",
     "text": [
      "   Intern       Name    Fix\n",
      "0    Int3  ภาณุวัฒน์    Med\n",
      "10   Int2     ณัฐชัย     Sx\n",
      "15   Int3      ภาสกร  Ortho\n",
      "16   Int2   ปารินทร์  Ortho\n",
      "19   Int3    เอนกโชค    Ped\n",
      "20   Int3      ณัชชา    Ped\n",
      "21   Int2     ชญานิศ    Ped\n",
      "22   Int2       นภสร    Ped\n",
      "23   Int2   ณิชารีย์    Ped\n",
      "24   Int2     ปภาวดี    Ped\n",
      "31   Int3     นัทธมน    Eye\n",
      "32   Int3   ณัฐภัสสร    Eye\n",
      "33   Int2    พิชชาภา    Eye\n",
      "35   Int2    สรศักย์    ENT\n",
      "43   Int3   บุญฤทธิ์  X-ray\n",
      "44   Int3   พุฒิพงศ์  X-ray\n",
      "45   Int2     อภิชญา  Rehab\n",
      "{0: 'ภาณุวัฒน์', 10: 'ณัฐชัย', 15: 'ภาสกร', 16: 'ปารินทร์', 19: 'เอนกโชค', 20: 'ณัชชา', 21: 'ชญานิศ', 22: 'นภสร', 23: 'ณิชารีย์', 24: 'ปภาวดี', 31: 'นัทธมน', 32: 'ณัฐภัสสร', 33: 'พิชชาภา', 35: 'สรศักย์', 43: 'บุญฤทธิ์', 44: 'พุฒิพงศ์', 45: 'อภิชญา'}\n"
     ]
    },
    {
     "name": "stderr",
     "output_type": "stream",
     "text": [
      "C:\\Users\\Mark\\Anaconda3\\lib\\site-packages\\ipykernel_launcher.py:20: SettingWithCopyWarning: \n",
      "A value is trying to be set on a copy of a slice from a DataFrame.\n",
      "Try using .loc[row_indexer,col_indexer] = value instead\n",
      "\n",
      "See the caveats in the documentation: http://pandas.pydata.org/pandas-docs/stable/indexing.html#indexing-view-versus-copy\n"
     ]
    }
   ],
   "source": [
    "opened_file = open('Book1.csv')\n",
    "import pandas as pd \n",
    "read_file = pd.read_csv(\"Book1.csv\", encoding = 'utf-8' )\n",
    "name_with_fix = read_file.iloc[:,0:2]\n",
    "intern_list = []\n",
    "name_list = []\n",
    "\n",
    "# splitting int from name\n",
    "for i in read_file.iloc[:,0]:\n",
    "    intern,name = i.split()\n",
    "    name = name.replace(' ','')\n",
    "    intern_list.append(intern)\n",
    "    name_list.append(name)\n",
    "data = {'Intern': intern_list,\n",
    "        'Name':name_list} \n",
    "# create a pd with intern year as column and instert it back into main file\n",
    "Int_name = pd.DataFrame(data) \n",
    "name_with_fix.insert(0, \"Intern\", Int_name['Intern'], True) \n",
    "# change name to name without year-prefix\n",
    "name_with_fix['Name'] = Int_name['Name']\n",
    "\n",
    "\n",
    "# remove intern 1\n",
    "name_with_fix.drop(name_with_fix[name_with_fix.loc[:,'Intern'] == 'Int1'].index, inplace = True)\n",
    "\n",
    "# remove 36   Int2  ศุภาพิชญ์    ENT --- resigned\n",
    "name_with_fix.drop(name_with_fix[name_with_fix.loc[:,'Name'] == 'ศุภาพิชญ์'].index, inplace = True)\n",
    "print(name_with_fix)  \n",
    "\n",
    "name_index = name_with_fix.iloc[:,1]\n",
    "index_to_name = name_index.to_dict()\n",
    "print(index_to_name)"
   ]
  },
  {
   "cell_type": "code",
   "execution_count": 12,
   "metadata": {},
   "outputs": [
    {
     "name": "stdout",
     "output_type": "stream",
     "text": [
      "The name_to_index dict = {'ภาณุวัฒน์': 0, 'ณัฐชัย': 10, 'ภาสกร': 15, 'ปารินทร์': 16, 'เอนกโชค': 19, 'ณัชชา': 20, 'ชญานิศ': 21, 'นภสร': 22, 'ณิชารีย์': 23, 'ปภาวดี': 24, 'นัทธมน': 31, 'ณัฐภัสสร': 32, 'พิชชาภา': 33, 'สรศักย์': 35, 'บุญฤทธิ์': 43, 'พุฒิพงศ์': 44, 'อภิชญา': 45} \n",
      "\n",
      "The index_to_fix dict = {0: 'Med', 10: 'Sx', 15: 'Ortho', 16: 'Ortho', 19: 'Ped', 20: 'Ped', 21: 'Ped', 22: 'Ped', 23: 'Ped', 24: 'Ped', 31: 'Eye', 32: 'Eye', 33: 'Eye', 35: 'ENT', 43: 'X-ray', 44: 'X-ray', 45: 'Rehab'} \n",
      "\n",
      "The index_to_year dict = {0: 'Int3', 10: 'Int2', 15: 'Int3', 16: 'Int2', 19: 'Int3', 20: 'Int3', 21: 'Int2', 22: 'Int2', 23: 'Int2', 24: 'Int2', 31: 'Int3', 32: 'Int3', 33: 'Int2', 35: 'Int2', 43: 'Int3', 44: 'Int3', 45: 'Int2'} \n",
      "\n"
     ]
    }
   ],
   "source": [
    "# create name to index for later use\n",
    "name_to_index = {name:index for index,name in index_to_name.items()}\n",
    "print('The name_to_index dict = {}'.format(name_to_index),'\\n')\n",
    "\n",
    "index_to_fix = name_with_fix.iloc[:,2].to_dict()\n",
    "print('The index_to_fix dict = {}'.format(index_to_fix),'\\n')\n",
    "\n",
    "index_to_year = name_with_fix.iloc[:,0].to_dict()\n",
    "print('The index_to_year dict = {}'.format(index_to_year),'\\n')\n"
   ]
  },
  {
   "cell_type": "code",
   "execution_count": 147,
   "metadata": {
    "scrolled": true
   },
   "outputs": [
    {
     "name": "stdout",
     "output_type": "stream",
     "text": [
      "The indices of present intern are:[0, 10, 15, 16, 19, 20, 21, 22, 23, 24, 31, 32, 33, 35, 43, 44, 45]\n",
      "\n",
      "The names of intern present are:\n",
      "ภาณุวัฒน์\n",
      "ณัฐชัย\n",
      "ภาสกร\n",
      "ปารินทร์\n",
      "เอนกโชค\n",
      "ณัชชา\n",
      "ชญานิศ\n",
      "นภสร\n",
      "ณิชารีย์\n",
      "ปภาวดี\n",
      "นัทธมน\n",
      "ณัฐภัสสร\n",
      "พิชชาภา\n",
      "สรศักย์\n",
      "บุญฤทธิ์\n",
      "พุฒิพงศ์\n",
      "อภิชญา\n"
     ]
    }
   ],
   "source": [
    "# Input intern not present : input as names (str)\n",
    "Int_all = [key for key in index_to_name]\n",
    "Int_not_present_names = []\n",
    "Int_not_present_indices = [name_to_index[i] for i in Int_not_present_names]\n",
    "\n",
    "\n",
    "def remove_not_present(Int_all, Int_not_present):        \n",
    "    for i in Int_not_present_indices:\n",
    "        Int_all.remove(i)\n",
    "    return Int_all\n",
    "Int_present = remove_not_present(Int_all, Int_not_present_indices)\n",
    "print('The indices of present intern are:{}'.format(Int_present))\n",
    "\n",
    "# print index->names\n",
    "name_present = [index_to_name[i] for i in Int_present]\n",
    "print('\\nThe names of intern present are:')\n",
    "for i in name_present:\n",
    "    print(i)"
   ]
  },
  {
   "cell_type": "code",
   "execution_count": null,
   "metadata": {},
   "outputs": [],
   "source": []
  },
  {
   "cell_type": "code",
   "execution_count": 216,
   "metadata": {
    "scrolled": false
   },
   "outputs": [
    {
     "name": "stdout",
     "output_type": "stream",
     "text": [
      "loading saves..\n",
      "No counting was made before, nothing to display - ยังไม่เคยมีการจัดเวรมาก่อน\n",
      "checking unavailable dates...\n",
      "The unavailable dates for ['สรศักย์'] are day [4, 11, 18, 25]\n",
      "The unavailable dates for ['ภาณุวัฒน์'] are day [24]\n",
      "\n",
      "Initiating randomization..\n",
      "\n",
      "\n",
      "เวร OFM เดือนมิถุนายน\n",
      "\n",
      "Day..1..:.Int3 พุฒิพงศ์\n",
      "Day..4..:.Int3 ณัชชา\n",
      "Day..5..:.Int2 ณิชารีย์\n",
      "Day..8..:.Int3 บุญฤทธิ์\n",
      "Day..10..:.Int2 ณัฐชัย\n",
      "Day..11..:.Int3 ภาสกร\n",
      "Day..12..:.Int3 ณัฐภัสสร\n",
      "Day..15..:.Int2 สรศักย์\n",
      "Day..17..:.Int3 เอนกโชค\n",
      "Day..18..:.Int3 นัทธมน\n",
      "Day..19..:.Int2 ปารินทร์\n",
      "Day..22..:.Int2 นภสร\n",
      "Day..24..:.Int2 ชญานิศ\n",
      "Day..25..:.Int2 อภิชญา\n",
      "Day..26..:.Int2 ปภาวดี\n",
      "Day..29..:.Int3 ภาณุวัฒน์\n"
     ]
    }
   ],
   "source": [
    "import ast\n",
    "import random\n",
    "OFM_dates = remove_dates(all_dates, unwanted_days, holidays)\n",
    "count_dict= {}\n",
    "date_name_dict = {}\n",
    "\n",
    "def try_open_saves(month, disable=True):\n",
    "    if disable == False:\n",
    "        month_file = str(month).lower()+'_count.txt'\n",
    "    elif disable == True:\n",
    "        month_file = None\n",
    "        \n",
    "    try:\n",
    "#     input old saves here\n",
    "        f = open(month_file, 'w')\n",
    "        old_dict = f.read()\n",
    "        f.close() \n",
    "    except:\n",
    "        old_dict = '{}'\n",
    "        print('No counting was made before, nothing to display - ยังไม่เคยมีการจัดเวรมาก่อน')\n",
    "    \n",
    "    if old_dict != '{}':\n",
    "        print('previous data detected,.. retrieving data from save file \\n เคยมีการจัดเวรมาก่อน เคยอยู่เวรมาแล้วกี่ครั้ง')\n",
    "        updated_dict = ast.literal_eval(old_dict)\n",
    "        for key in updated_dict:\n",
    "            print('The number of shifts so far...{}..x..{}..times'.format(index_to_name[key], updated_dict[key]))\n",
    "\n",
    "print('loading saves..')\n",
    "try_open_saves('june')\n",
    "\n",
    "\n",
    "# unavailable_for_subs - return False if randomized day = day of the week that is not available for that ward\n",
    "# subs = Med, Rehab, X-ray, ENT, Eye, Ped, Ortho, Sx <-- case sensitive\n",
    "print('checking unavailable dates...')\n",
    "\n",
    "class unavailable:\n",
    "    def __init__(self, names, weekday, name_with_fix=name_with_fix, weekday_date=weekday_date\\\n",
    "                 , index_to_name=index_to_name, name_to_index=name_to_index):\n",
    "        if type(weekday) == str: \n",
    "            self.dates = [i.day for i in weekday_date[weekday]]\n",
    "        else:\n",
    "            self.dates = weekday\n",
    "        # retrieve list of names from subs.\n",
    "        if type(names) == str:\n",
    "            self.indices = [i for i in name_with_fix[name_with_fix.loc[:,'Fix'] == names].index]\n",
    "            self.names = [i for i in name_with_fix[name_with_fix.loc[:,'Fix'] == names].Name]\n",
    "        else:\n",
    "            self.indices = [name_to_index[i] for i in names]\n",
    "            self.names = names\n",
    "        self.name_with_fix = name_with_fix\n",
    "        self.weekday_date = weekday_date\n",
    "        self.index_to_name = index_to_name\n",
    "        #print when declare.\n",
    "        print ('The unavailable dates for {} are day {}'.format(self.names, self.dates))\n",
    "                \n",
    "    def UA_bool(self, random_date, random_winner):\n",
    "        if (random_winner in self.indices) and (random_date in self.dates):\n",
    "            return False\n",
    "        else:\n",
    "            return True\n",
    "        \n",
    "ENT = unavailable('ENT','thursday')\n",
    "Panuwat = unavailable(['ภาณุวัฒน์'],[24])                                                                       \n",
    "\n",
    "# start randomization\n",
    "print('\\nInitiating randomization..\\n')\n",
    "print('\\nเวร OFM เดือนมิถุนายน\\n')\n",
    "\n",
    "while len(date_name_dict) < len(OFM_dates):\n",
    "    for i in OFM_dates:\n",
    "        if (i.day not in date_name_dict.keys()):\n",
    "            random_winner = random.choice(Int_present)\n",
    "            if (random_winner not in date_name_dict.values()) \\\n",
    "            and ENT.UA_bool(i.day,random_winner) \\\n",
    "            and Panuwat.UA_bool(i.day,random_winner):\n",
    "                date_name_dict[i.day] = random_winner\n",
    "                count_dict[random_winner] = 1\n",
    "\n",
    "\n",
    "# sort dictionary using ordered dict, and sort by key (t[0]) -- when assessing duplicates- sort by val (t[1])\n",
    "import collections\n",
    "date_name_dict = collections.OrderedDict(sorted(date_name_dict.items(), key=lambda t: t[0]))\n",
    "\n",
    "for i in date_name_dict:\n",
    "    year = index_to_year[date_name_dict[i]]\n",
    "    name = index_to_name[date_name_dict[i]]\n",
    "    print('Day..{}..:.{} {}'.format(i,year, name))\n"
   ]
  },
  {
   "cell_type": "code",
   "execution_count": 149,
   "metadata": {},
   "outputs": [
    {
     "name": "stdout",
     "output_type": "stream",
     "text": [
      "\n",
      " updating updated_dict \n",
      "\n"
     ]
    },
    {
     "ename": "NameError",
     "evalue": "name 'old_dict' is not defined",
     "output_type": "error",
     "traceback": [
      "\u001b[1;31m---------------------------------------------------------------------------\u001b[0m",
      "\u001b[1;31mNameError\u001b[0m                                 Traceback (most recent call last)",
      "\u001b[1;32m<ipython-input-149-60cbc52db2f8>\u001b[0m in \u001b[0;36m<module>\u001b[1;34m\u001b[0m\n\u001b[0;32m      1\u001b[0m \u001b[1;31m# update the current dict\u001b[0m\u001b[1;33m\u001b[0m\u001b[1;33m\u001b[0m\u001b[1;33m\u001b[0m\u001b[0m\n\u001b[0;32m      2\u001b[0m \u001b[0mprint\u001b[0m\u001b[1;33m(\u001b[0m\u001b[1;34m'\\n updating updated_dict \\n'\u001b[0m\u001b[1;33m)\u001b[0m\u001b[1;33m\u001b[0m\u001b[1;33m\u001b[0m\u001b[0m\n\u001b[1;32m----> 3\u001b[1;33m \u001b[1;32mif\u001b[0m \u001b[0mold_dict\u001b[0m \u001b[1;33m!=\u001b[0m \u001b[1;34m'{}'\u001b[0m\u001b[1;33m:\u001b[0m\u001b[1;33m\u001b[0m\u001b[1;33m\u001b[0m\u001b[0m\n\u001b[0m\u001b[0;32m      4\u001b[0m     \u001b[1;32mfor\u001b[0m \u001b[0mi\u001b[0m \u001b[1;32min\u001b[0m \u001b[0mcount_dict\u001b[0m\u001b[1;33m:\u001b[0m\u001b[1;33m\u001b[0m\u001b[1;33m\u001b[0m\u001b[0m\n\u001b[0;32m      5\u001b[0m         \u001b[1;32mif\u001b[0m \u001b[0mi\u001b[0m \u001b[1;32min\u001b[0m \u001b[0mupdated_dict\u001b[0m\u001b[1;33m:\u001b[0m\u001b[1;33m\u001b[0m\u001b[1;33m\u001b[0m\u001b[0m\n",
      "\u001b[1;31mNameError\u001b[0m: name 'old_dict' is not defined"
     ]
    }
   ],
   "source": [
    "# update the current dict\n",
    "print('\\n updating updated_dict \\n')\n",
    "if old_dict != '{}':\n",
    "    for i in count_dict:\n",
    "        if i in updated_dict:\n",
    "            updated_dict[i]+= 1\n",
    "        else:\n",
    "            updated_dict[i] = 1\n",
    "    print(updated_dict)    \n",
    "elif old_dict == '{}':\n",
    "    updated_dict = count_dict\n",
    "\n",
    "#  print the counting in updated dict\n",
    "for key in updated_dict:\n",
    "    year = index_to_year[key]\n",
    "    print('The number of shifts so far..{} {}..x..{}..times'.format(year,index_to_name[key], updated_dict[key]))"
   ]
  },
  {
   "cell_type": "code",
   "execution_count": 150,
   "metadata": {},
   "outputs": [],
   "source": [
    "#  define function to save the current dict (accept string)\n",
    "def save_to_new_file(file_name, dict):\n",
    "#  x mode = create only, if file already exist -- will return error\n",
    "    print('saving dict to new file : {}'.format(file_name))\n",
    "    try:\n",
    "        file = open(file_name, \"x\") \n",
    "        file.write(\"{}\".format(dict)) \n",
    "        file.close() \n",
    "        print('succesfully saved to {}'.format(file_name))\n",
    "    except:\n",
    "        print(\"File already existed\")     \n",
    "\n",
    "rewrite_safe_guard_off = True\n",
    "\n",
    "def rewrite_file(file_name, dict):\n",
    "    if rewrite_safe_guard_off:\n",
    "        f = open(file_name, 'r+')\n",
    "        f.read()\n",
    "        f.seek(0)\n",
    "        f.truncate()\n",
    "        f.write('{}'.format(dict))\n",
    "        f.close()\n",
    "        return 'succesfully rewrite file {}'.format(file_name)\n",
    "    else: \n",
    "        return 'rewrite_safe_guard_on'\n",
    "    \n",
    "def read_counting(file_name):            \n",
    "    b = open(file_name, 'r')\n",
    "    a = b.read()\n",
    "    file = ast.literal_eval(a)\n",
    "\n",
    "    for key in file:\n",
    "        print('The number of shifts so far...{} {}..x..{}..times'.format(index_to_year[key],index_to_name[key], file[key]))\n",
    "        \n",
    "def read_date(file_name):\n",
    "    b = open(file_name,'r')\n",
    "    a = b.read()\n",
    "    b.close\n",
    "    file = ast.literal_eval(a)\n",
    "\n",
    "    for key in file:\n",
    "        year = index_to_year[file[key]]\n",
    "        print('Day..{}..:..{} {}'.format(key,year ,index_to_name[file[key]]))\n"
   ]
  },
  {
   "cell_type": "code",
   "execution_count": 151,
   "metadata": {
    "scrolled": true
   },
   "outputs": [],
   "source": [
    "# save to 2 files(date and counting), start by rewriting then save to new file -- input = str(month)\n",
    "# date_name_dict is currently orderred dict -> Change back to normal dict- else not readable\n",
    "def save_file(month):\n",
    "    date_file = str(month).lower() + '_date.txt'\n",
    "    counting_file = str(month).lower() + '_counting.txt'\n",
    "    try: \n",
    "        print('try rewriting {}'.format(date_file))\n",
    "        rewrite_file(date_file, dict(date_name_dict))\n",
    "        print('success')\n",
    "    except: \n",
    "        print('failed rewriting {}, try saving to new file'.format(date_file))\n",
    "        save_to_new_file(date_file, dict(date_name_dict))\n",
    "        print('success')\n",
    "        \n",
    "    try: \n",
    "        print('try rewriting {}'.format(counting_file))\n",
    "        rewrite_file(counting_file, updated_dict)\n",
    "        print('success')\n",
    "    except: \n",
    "        print('failed rewriting {}, try saving to new file'.format(counting_file))\n",
    "        save_to_new_file(counting_file, updated_dict)\n",
    "        print('success')\n",
    "\n",
    "#Read files both the counting and dates -- just enter the month\n",
    "def read_file(month):\n",
    "    date_file = str(month).lower() + '_date.txt'\n",
    "    counting_file = str(month).lower() + '_counting.txt'\n",
    "    print('\\n reading {} \\n'.format(date_file))\n",
    "    read_date(date_file)\n",
    "    print('\\n reading {} \\n'.format(counting_file))\n",
    "    read_counting(counting_file)\n",
    "\n",
    "# save_file('june')\n",
    "# read_file('june')"
   ]
  },
  {
   "cell_type": "code",
   "execution_count": null,
   "metadata": {},
   "outputs": [],
   "source": [
    "# Delete all data!\n",
    "delete_safe_guard_off = False\n",
    "def delete_all(file_name):\n",
    "    if delete_safe_guard_off:\n",
    "        f = open(file_name, 'r+')\n",
    "        f.read()\n",
    "        f.seek(0)\n",
    "        f.truncate()\n",
    "        f.write('{}'.format({}))\n",
    "        f.close()\n",
    "        a = open(file_name).read()\n",
    "        print('deleted data in {}'.format(file_name))\n",
    "    else: print('delete_safe_guard_on or file did not exist')\n",
    "        \n",
    "delete_all('june_counting.txt')\n",
    "delete_all('june_date.txt')"
   ]
  },
  {
   "cell_type": "code",
   "execution_count": null,
   "metadata": {},
   "outputs": [],
   "source": [
    "# ideas for creating เวร ER\n",
    "# create ER dataframe (pandas):rows = dates, columns= เช้าx2columns บ่ายx2columns ดึกx1column\n",
    "# fill all เช้า with NaN for เช้า in saturdays, sundays and holidays\n",
    "# while not completely filled:\n",
    "# random choice from indices of interns for วัน if วัน !=NaN --> use boolean conditions (if false rand again): \n",
    "#                                                                   not consecutive day or in the same day \n",
    "#                                                                   int1 can't be in ดึก\n",
    "#                                                                   int1 can't อยู่เวรบ่าย alone\n",
    "#                                                                   วันลา วัน sub ไม่ว่าง ใช้ class.UA_bool เดืมได้\n",
    "# \n",
    "# not consecutive day or in the same day ก็แค่ให้ if name in same row row+1 and row-1 : return False.\n",
    "# int1 can't be in ดึก ~ if column == ดึก, if random_winner == intern1 -> return false\n",
    "# ปกติ random บ่าย column 1 ก่อน if random_winner บ่าย column 1 == intern1 and random_winner == intern1 --> return false\n",
    "\n",
    "# เวร ER เสริม จัดทีหลังโดย concat ตาราง ER หลักไว้หลังสุด -> \n",
    "# not consecutive day or in the same day ก็แค่ให้ if name in same row row+1 and row-1 : return False.ได้ผลทั้ง ER หลักและเสริม\n",
    "# แต่ละ subs ไม่อยู๋วันไหนหรือ ใครลาวันไหนก็แค่ใช้ class.UA_bool เดิม"
   ]
  },
  {
   "cell_type": "markdown",
   "metadata": {},
   "source": [
    "ถ้ามี หลายๆ conditions, code เก่าอาจจะหา solution ไม่ได้ run ไปเรื่อยๆไม่ยอมหยุด\n",
    "ลองสร้าง algorithm ใหม่ แบบ brute force หาความเป็นไปได้ทั้งหมดในการจัดเวร, + บอกจำนวน possibilities ได้ แต่กินทรัพยากรมาก\n",
    "\n",
    "below is experimental"
   ]
  },
  {
   "cell_type": "markdown",
   "metadata": {},
   "source": [
    "import itertools"
   ]
  },
  {
   "cell_type": "markdown",
   "metadata": {},
   "source": [
    "class unavailable2:\n",
    "    \"\"\"names = list of unavailable names, name with fix is the df, weekday_date eg. monday:[1,8,15]\n",
    "    weekday could be both string: 'monday' or a list of days: [1,8,15]\n",
    "    names could be both string: 'ENT' or a list of names: [\"ภาณุวัฒน์\"] \"\"\"\n",
    "    def __init__(self, names, weekday, name_with_fix=name_with_fix, weekday_date=weekday_date\\\n",
    "                 , index_to_name=index_to_name):\n",
    "        if type(weekday) == str: \n",
    "            self.dates = [i.day for i in weekday_date[weekday]]\n",
    "        else:\n",
    "            self.dates = weekday\n",
    "        # retrieve list of names from subs.\n",
    "        if type(names) == str:\n",
    "            self.names = [i for i in name_with_fix[name_with_fix.loc[:,'Fix'] == names].Name]\n",
    "        else:\n",
    "            self.names = names\n",
    "        self.name_with_fix = name_with_fix\n",
    "        self.weekday_date = weekday_date\n",
    "        self.index_to_name = index_to_name\n",
    "        \n",
    "    def create_combi(self):\n",
    "        \"\"\"accept lists\"\"\"\n",
    "        print ('The unavailable dates for {} are day {}'.format(self.names, self.dates))\n",
    "        print()\n",
    "        UA_combi = []\n",
    "        for i in itertools.combinations_with_replacement(self.names,len(self.dates)):\n",
    "            UA_combi.extend(list(zip(self.dates,i)))\n",
    "        return UA_combi\n"
   ]
  },
  {
   "cell_type": "markdown",
   "metadata": {},
   "source": [
    "def remove_intersection (all_combi,UA_combi):\n",
    "    \"\"\"all_combi must be list of list of tuples, UA_combi must be list of tuples, returns a list of list of tuples\"\"\"\n",
    "    UA = []\n",
    "    for lt in all_combi:\n",
    "        for t in lt:\n",
    "            for i in UA_combi:\n",
    "                if t==i: \n",
    "                    UA.append(lt)\n",
    "    return [x for x in all_combi if x not in UA]"
   ]
  },
  {
   "cell_type": "markdown",
   "metadata": {},
   "source": [
    "a = unavailable2('ENT','monday')\n",
    "b = a.create_combi()\n",
    "print(b)"
   ]
  },
  {
   "cell_type": "raw",
   "metadata": {},
   "source": [
    "# permutations = assign days to len(names) positions..without repeat -- if I want repeat use combinations_with_replacement()\n",
    "def all_possibilities(names, days):\n",
    "    return [list(zip(days,i)) for i in itertools.permutations(names,len(days))]\n",
    "\n",
    "days = [1, 8, 15, 22, 29]\n",
    "# days = [i.day for i in OFM_dates]\n",
    "# names = [\"ภาณุวัฒน์\",\"ณัฐชัย\",\"ภาสกร\",\"ปารินทร์\",\"เอนกโชค\",\"ณัชชา\",\"ชญานิศ\",\"นภสร\",\"ณิชารีย์\",\"ปภาวดี\",\"นัทธมน\",\"ณัฐภัสสร\",\"พิชชาภา\",\"สรศักย์\",\"บุญฤทธิ์\",\"พุฒิพงศ์\",\"อภิชญา\"]\n",
    "names = [\"ภาณุวัฒน์\",\"สรศักย์\",\"ภาสกร\",\"ปารินทร์\",\"เอนกโชค\",\"ณัชชา\",\"ชญานิศ\",\"นภสร\",\"ณิชารีย์\",\"ปภาวดี\"]\n",
    "c = all_possibilities(names,days)\n",
    "print(len(c))\n",
    "\n",
    "print(len(remove_intersection(c, b)))"
   ]
  },
  {
   "cell_type": "markdown",
   "metadata": {},
   "source": [
    "\"\"\"ไม่เวิร์คเพราะมี 17! = 3.5568743e+14 possibilities..วิธ๊แก้คือ truncate เป็นส่วนย่อยๆ / random ขึ้นมาส่วนหนึ่งก่อน?\"\"\""
   ]
  },
  {
   "cell_type": "code",
   "execution_count": null,
   "metadata": {},
   "outputs": [],
   "source": []
  }
 ],
 "metadata": {
  "kernelspec": {
   "display_name": "Python 3",
   "language": "python",
   "name": "python3"
  },
  "language_info": {
   "codemirror_mode": {
    "name": "ipython",
    "version": 3
   },
   "file_extension": ".py",
   "mimetype": "text/x-python",
   "name": "python",
   "nbconvert_exporter": "python",
   "pygments_lexer": "ipython3",
   "version": "3.7.3"
  }
 },
 "nbformat": 4,
 "nbformat_minor": 2
}
