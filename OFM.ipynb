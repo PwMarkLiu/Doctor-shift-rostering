{
 "cells": [
  {
   "cell_type": "markdown",
   "metadata": {},
   "source": [
    "### Doctor's duty roster###\n",
    "This purpose of this app is to automatically assign OFM shifts to doctors presented at hospital during that month.\n",
    "(OFM stands for occupational-family-medicine). The OFM shifts are between 8:30-16:30, every weekday except for Tuesday."
   ]
  },
  {
   "cell_type": "markdown",
   "metadata": {},
   "source": [
    "[ลิงค์วันหยุด](https://hilight.kapook.com/view/188249)"
   ]
  },
  {
   "cell_type": "code",
   "execution_count": 1,
   "metadata": {},
   "outputs": [
    {
     "data": {
      "text/plain": [
       "[('ENT', ['thursday']),\n",
       " (['ภาณุวัฒน์'], ['wednesday']),\n",
       " (['ศิรวิชญ์'], ['monday', 'thursday']),\n",
       " (['ปรียาภรณ์'], ['wednesday', 'friday']),\n",
       " (['นภดล'], ['tuesday', 'thursday'])]"
      ]
     },
     "execution_count": 1,
     "metadata": {},
     "output_type": "execute_result"
    }
   ],
   "source": [
    "# change var\n",
    "YEAR = 2020\n",
    "MONTH = 12\n",
    "HOLIDAYS = [10,11,31] #ไม่ต้องใส่เสาร์อาทิตย์\n",
    "SAVE = \"December\" #this month\n",
    "PREVIOUS_SAVE = \"November\"\n",
    "# remove resigned and not present or คนที่ออก OPD อื่นทั้งเดือน\n",
    "RESIGNED = ['ศุภาพิชญ์','พุฒิพงศ์'] \n",
    "NOT_PRESENT = [\"ภาณุวัฒน์\", \"ปรียาภรณ์\"]\n",
    "OTHER_OPD = [] \n",
    "\n",
    "# คนที่ไม่ว่างในแต่ละวัน\n",
    "# สามารถเขียนได้ 2 วิธี\n",
    "# ชื่อภาค (\"ENT\",\"Eye\" ลองดูใน excel หรือดูตารางข้างล่างว่าพิมพ์ว่าอะไร)  ตามด้วย list วันของสัปดาห์ [\"monday\",\"tuesday\"..] แล้วคร่อมทั่งหมดด้วยวงเล็บ (กลายเป็น tuple)\n",
    "# เช่น ('ENT',['thursday', 'friday'])\n",
    "# ลิสต์ของคน ['ปรียาภรณ์,'นภดล'] ตามด้วยลิสต์ของวันในสัปดาห์ [\"monday\",\"tuesday\"..] หรือวันที่ [11,12,13,14] ซึ่งวันที่นี้สามารถเขียนอีกแบบได้คือ [*np.arange(11,14+1)] = วันที่ 11-14 แล้วคร่อมทั่งหมดด้วยวงเล็บ (กลายเป็น tuple)\n",
    "# เช่น (['เอนกโชค'], [*np.arange(9,13+1), *np.arange(25,31+1)]) -- ลา 9-13 กับ 25-31\n",
    "# หรือ (['ปรียาภรณ์',\"นภดล\"], ['wednesday',\"friday\"])\n",
    "\n",
    "# ในทุกเดือน จะมี med กับ ENT ที่มีการฟิกวันไม่ว่าง คือต้องออก OPD ของตัวเอง: ENT ไม่ว่าง พฤ, เกลือไม่ว่างพุธ, Ckits ไม่ว่าง จันทร์พฤ, 'ปรียาภรณ์' ไม่ว่างพุธศุกร์, นภดล ไม่ว่างอังคารพฤ\n",
    "# อย่าลืม ',' ระหว่างบรรทัด\n",
    "\n",
    "UNAVAILABLE = [\n",
    "   ('ENT',['thursday']) ,\n",
    "   (['ภาณุวัฒน์'],['wednesday']),\n",
    "   (['ศิรวิชญ์'], ['monday',\"thursday\"] ),\n",
    "   (['ปรียาภรณ์'], ['wednesday',\"friday\"] ),\n",
    "   (['นภดล'], ['tuesday',\"thursday\"]) ,\n",
    "]\n",
    "\n",
    "UNAVAILABLE"
   ]
  },
  {
   "cell_type": "code",
   "execution_count": 1,
   "metadata": {},
   "outputs": [],
   "source": [
    "#1. Get the dates of every weekdays of that month accordingly - assign it to a dictionary *weekday_date*\n",
    "#2. Create a list with all the dates of that month - *all_dates*"
   ]
  },
  {
   "cell_type": "code",
   "execution_count": 18,
   "metadata": {},
   "outputs": [],
   "source": [
    "from datetime import date, timedelta\n",
    "import pandas as pd\n",
    "import numpy as np\n",
    "\n",
    "weekday_dict = {0:'monday', 1:'tuesday', 2:'wednesday', 3:'thursday', 4:'friday', 5:'saturday', 6:'sunday'}\n",
    "weekday_date = {weekday:[] for weekday in weekday_dict.values()}\n",
    "Thai_dict = {'january':\"มกราคม\",'february':\"กุมภาพันธ์\",'march':\"มีนาคม\",'may':\"พฤษภาคม\",'june':\"มิถุนายน\",\\\n",
    "             'july':\"กรกฎาคม\",'august':\"สิงหาคม\",'september':\"กันยายน\",'october':\"ตุลาคม\",'november':\"พฤศจิกายน\",\\\n",
    "             'december':\"ธันวาคม\"}\n",
    "\n",
    "def get_dates (year, month):\n",
    "    d = date(year, month, 1) #1 = first day of the month, do not change\n",
    "    while d.month == month:\n",
    "        day_of_week = weekday_dict[d.weekday()]\n",
    "        weekday_date[day_of_week].append(d)\n",
    "        d += timedelta(days = 1)\n",
    "    return weekday_date\n",
    "\n",
    "\"\"\"Change every month\"\"\"\n",
    "weekday_date = get_dates(YEAR,MONTH)\n",
    "\n",
    "\n",
    "all_dates = []\n",
    "for week_dates in weekday_date.values():\n",
    "    all_dates = all_dates + [i for i in week_dates]\n",
    "all_dates.sort()"
   ]
  },
  {
   "cell_type": "code",
   "execution_count": 19,
   "metadata": {},
   "outputs": [],
   "source": [
    "# weekday_date"
   ]
  },
  {
   "cell_type": "code",
   "execution_count": 20,
   "metadata": {},
   "outputs": [],
   "source": [
    "# all_dates"
   ]
  },
  {
   "cell_type": "markdown",
   "metadata": {},
   "source": [
    "### create date object for the holidays we wish to exclude"
   ]
  },
  {
   "cell_type": "code",
   "execution_count": 5,
   "metadata": {},
   "outputs": [
    {
     "name": "stdout",
     "output_type": "stream",
     "text": [
      "[datetime.date(2020, 12, 10), datetime.date(2020, 12, 11), datetime.date(2020, 12, 31)]\n"
     ]
    }
   ],
   "source": [
    "holidays = []\n",
    "def create_holidays(year, month, day):\n",
    "    d = date(year, month, day)\n",
    "    holidays.append(d)\n",
    "    return holidays\n",
    "\n",
    "for i in HOLIDAYS:\n",
    "    create_holidays(YEAR,MONTH, i)\n",
    "\n",
    "# print(holidays)"
   ]
  },
  {
   "cell_type": "code",
   "execution_count": 6,
   "metadata": {},
   "outputs": [],
   "source": [
    "# remove the holidays and unwanted weekdays"
   ]
  },
  {
   "cell_type": "code",
   "execution_count": 7,
   "metadata": {
    "scrolled": true
   },
   "outputs": [
    {
     "name": "stdout",
     "output_type": "stream",
     "text": [
      "Total number of days needed to fill = 15 \n",
      "\n",
      "The OFM dates are:\n"
     ]
    },
    {
     "data": {
      "text/plain": [
       "[datetime.date(2020, 12, 2),\n",
       " datetime.date(2020, 12, 3),\n",
       " datetime.date(2020, 12, 4),\n",
       " datetime.date(2020, 12, 7),\n",
       " datetime.date(2020, 12, 9),\n",
       " datetime.date(2020, 12, 14),\n",
       " datetime.date(2020, 12, 16),\n",
       " datetime.date(2020, 12, 17),\n",
       " datetime.date(2020, 12, 18),\n",
       " datetime.date(2020, 12, 21),\n",
       " datetime.date(2020, 12, 23),\n",
       " datetime.date(2020, 12, 24),\n",
       " datetime.date(2020, 12, 25),\n",
       " datetime.date(2020, 12, 28),\n",
       " datetime.date(2020, 12, 30)]"
      ]
     },
     "execution_count": 7,
     "metadata": {},
     "output_type": "execute_result"
    }
   ],
   "source": [
    "def remove_dates(all_dates, unwanted_weekdays, holidays): #unwanted = list-of-list of unwanted weekdays\n",
    "#     OFM = all_dates- sundays - saturdays - tuesdays \n",
    "    OFM = all_dates\n",
    "    for weekday in unwanted_weekdays:\n",
    "        OFM = [date for date in OFM if date not in weekday_date[weekday]]\n",
    "    OFM = [date for date in OFM if date not in holidays]\n",
    "    return OFM\n",
    "\n",
    "unwanted_weekdays = ['sunday','saturday','tuesday']\n",
    "OFM_dates = remove_dates(all_dates, unwanted_weekdays, holidays)\n",
    "\n",
    "print('Total number of days needed to fill =', len(OFM_dates), '\\n')\n",
    "print('The OFM dates are:')\n",
    "OFM_dates"
   ]
  },
  {
   "cell_type": "markdown",
   "metadata": {},
   "source": [
    "### Get the list of intern doctors' names\n",
    "The names are stored in a csv file(exported from Excel)\n"
   ]
  },
  {
   "cell_type": "code",
   "execution_count": 21,
   "metadata": {},
   "outputs": [],
   "source": [
    "opened_file = open('Book1.csv')\n",
    "read_file = pd.read_csv(\"Book1.csv\", encoding = 'utf-8' )\n",
    "data = read_file.iloc[:,0:2]\n",
    "\n",
    "# data"
   ]
  },
  {
   "cell_type": "markdown",
   "metadata": {},
   "source": [
    "The names looked like this : \n",
    ">Int3 ภาณุวัฒน์, Med\n",
    "\n",
    "So we need to separate the year indicator (Int3 indicates intern year 3) from the name. "
   ]
  },
  {
   "cell_type": "code",
   "execution_count": 22,
   "metadata": {
    "scrolled": false
   },
   "outputs": [],
   "source": [
    "year_list = []\n",
    "name_list = []\n",
    "index_list = list(range(len(data)))\n",
    "# splitting int from name\n",
    "for i in read_file.iloc[:,0]:\n",
    "    year,name = i.split()\n",
    "    name = name.replace(' ','')\n",
    "    year_list.append(year)\n",
    "    name_list.append(name)\n",
    "    \n",
    "    \n",
    "# create a pd with intern year as column and insert it back as first column in the main file (df)\n",
    "df = {'Index': index_list,\n",
    "      'Year': year_list,\n",
    "      'Name':name_list} \n",
    "df = pd.DataFrame(df) \n",
    "df.insert(2, 'Fix', data['Fix'], True) \n",
    "L_df = df.copy(deep=True) # แก้ Bug คนที่ลาแล้วไม่มี year นำหน้า\n",
    "\n",
    "# df"
   ]
  },
  {
   "cell_type": "code",
   "execution_count": 23,
   "metadata": {},
   "outputs": [],
   "source": [
    "# Create dictionary for later use\n",
    "index_to_name = {i:n for i,n in enumerate(df['Name'])}\n",
    "\n",
    "# index_to_name"
   ]
  },
  {
   "cell_type": "markdown",
   "metadata": {},
   "source": [
    "### Remove names\n",
    "\n",
    "* Intern-1s aren't included in OFM shifts, so we need to remove them\n",
    "* Remove resigned\n",
    "* Remove those who are not present at the hospital for this month"
   ]
  },
  {
   "cell_type": "code",
   "execution_count": 11,
   "metadata": {},
   "outputs": [
    {
     "name": "stdout",
     "output_type": "stream",
     "text": [
      "Resigned :['ศุภาพิชญ์', 'พุฒิพงศ์'] Not_preset :['ภาณุวัฒน์', 'ปรียาภรณ์'] Other OPD: []\n",
      "There are 17 interns present, มีอินเทิร์นเหลือทั้งหมด 17 คน\n"
     ]
    },
    {
     "data": {
      "text/html": [
       "<div>\n",
       "<style scoped>\n",
       "    .dataframe tbody tr th:only-of-type {\n",
       "        vertical-align: middle;\n",
       "    }\n",
       "\n",
       "    .dataframe tbody tr th {\n",
       "        vertical-align: top;\n",
       "    }\n",
       "\n",
       "    .dataframe thead th {\n",
       "        text-align: right;\n",
       "    }\n",
       "</style>\n",
       "<table border=\"1\" class=\"dataframe\">\n",
       "  <thead>\n",
       "    <tr style=\"text-align: right;\">\n",
       "      <th></th>\n",
       "      <th>Index</th>\n",
       "      <th>Year</th>\n",
       "      <th>Fix</th>\n",
       "      <th>Name</th>\n",
       "    </tr>\n",
       "  </thead>\n",
       "  <tbody>\n",
       "    <tr>\n",
       "      <th>10</th>\n",
       "      <td>10</td>\n",
       "      <td>Int2</td>\n",
       "      <td>Sx</td>\n",
       "      <td>ณัฐชัย</td>\n",
       "    </tr>\n",
       "    <tr>\n",
       "      <th>15</th>\n",
       "      <td>15</td>\n",
       "      <td>Int3</td>\n",
       "      <td>Ortho</td>\n",
       "      <td>ภาสกร</td>\n",
       "    </tr>\n",
       "    <tr>\n",
       "      <th>16</th>\n",
       "      <td>16</td>\n",
       "      <td>Int2</td>\n",
       "      <td>Ortho</td>\n",
       "      <td>ปารินทร์</td>\n",
       "    </tr>\n",
       "    <tr>\n",
       "      <th>19</th>\n",
       "      <td>19</td>\n",
       "      <td>Int3</td>\n",
       "      <td>Ped</td>\n",
       "      <td>เอนกโชค</td>\n",
       "    </tr>\n",
       "    <tr>\n",
       "      <th>20</th>\n",
       "      <td>20</td>\n",
       "      <td>Int3</td>\n",
       "      <td>Ped</td>\n",
       "      <td>ณัชชา</td>\n",
       "    </tr>\n",
       "    <tr>\n",
       "      <th>21</th>\n",
       "      <td>21</td>\n",
       "      <td>Int2</td>\n",
       "      <td>Ped</td>\n",
       "      <td>ชญานิศ</td>\n",
       "    </tr>\n",
       "    <tr>\n",
       "      <th>22</th>\n",
       "      <td>22</td>\n",
       "      <td>Int2</td>\n",
       "      <td>Ped</td>\n",
       "      <td>นภสร</td>\n",
       "    </tr>\n",
       "    <tr>\n",
       "      <th>23</th>\n",
       "      <td>23</td>\n",
       "      <td>Int2</td>\n",
       "      <td>Ped</td>\n",
       "      <td>ณิชารีย์</td>\n",
       "    </tr>\n",
       "    <tr>\n",
       "      <th>24</th>\n",
       "      <td>24</td>\n",
       "      <td>Int2</td>\n",
       "      <td>Ped</td>\n",
       "      <td>ปภาวดี</td>\n",
       "    </tr>\n",
       "    <tr>\n",
       "      <th>31</th>\n",
       "      <td>31</td>\n",
       "      <td>Int3</td>\n",
       "      <td>Eye</td>\n",
       "      <td>นัทธมน</td>\n",
       "    </tr>\n",
       "    <tr>\n",
       "      <th>32</th>\n",
       "      <td>32</td>\n",
       "      <td>Int3</td>\n",
       "      <td>Eye</td>\n",
       "      <td>ณัฐภัสสร</td>\n",
       "    </tr>\n",
       "    <tr>\n",
       "      <th>33</th>\n",
       "      <td>33</td>\n",
       "      <td>Int2</td>\n",
       "      <td>Eye</td>\n",
       "      <td>พิชชาภา</td>\n",
       "    </tr>\n",
       "    <tr>\n",
       "      <th>35</th>\n",
       "      <td>35</td>\n",
       "      <td>Int2</td>\n",
       "      <td>ENT</td>\n",
       "      <td>สรศักย์</td>\n",
       "    </tr>\n",
       "    <tr>\n",
       "      <th>43</th>\n",
       "      <td>43</td>\n",
       "      <td>Int3</td>\n",
       "      <td>X-ray</td>\n",
       "      <td>บุญฤทธิ์</td>\n",
       "    </tr>\n",
       "    <tr>\n",
       "      <th>45</th>\n",
       "      <td>45</td>\n",
       "      <td>Int2</td>\n",
       "      <td>Rehab</td>\n",
       "      <td>อภิชญา</td>\n",
       "    </tr>\n",
       "    <tr>\n",
       "      <th>49</th>\n",
       "      <td>49</td>\n",
       "      <td>Int3</td>\n",
       "      <td>Med</td>\n",
       "      <td>ศิรวิชญ์</td>\n",
       "    </tr>\n",
       "    <tr>\n",
       "      <th>50</th>\n",
       "      <td>50</td>\n",
       "      <td>Int2</td>\n",
       "      <td>Med</td>\n",
       "      <td>นภดล</td>\n",
       "    </tr>\n",
       "  </tbody>\n",
       "</table>\n",
       "</div>"
      ],
      "text/plain": [
       "    Index  Year    Fix      Name\n",
       "10     10  Int2     Sx    ณัฐชัย\n",
       "15     15  Int3  Ortho     ภาสกร\n",
       "16     16  Int2  Ortho  ปารินทร์\n",
       "19     19  Int3    Ped   เอนกโชค\n",
       "20     20  Int3    Ped     ณัชชา\n",
       "21     21  Int2    Ped    ชญานิศ\n",
       "22     22  Int2    Ped      นภสร\n",
       "23     23  Int2    Ped  ณิชารีย์\n",
       "24     24  Int2    Ped    ปภาวดี\n",
       "31     31  Int3    Eye    นัทธมน\n",
       "32     32  Int3    Eye  ณัฐภัสสร\n",
       "33     33  Int2    Eye   พิชชาภา\n",
       "35     35  Int2    ENT   สรศักย์\n",
       "43     43  Int3  X-ray  บุญฤทธิ์\n",
       "45     45  Int2  Rehab    อภิชญา\n",
       "49     49  Int3    Med  ศิรวิชญ์\n",
       "50     50  Int2    Med      นภดล"
      ]
     },
     "execution_count": 11,
     "metadata": {},
     "output_type": "execute_result"
    }
   ],
   "source": [
    "# remove intern 1\n",
    "df.drop(df[df.loc[:,'Year'] == 'Int1'].index, inplace = True)\n",
    "# remove NOT_PRESENT + RESIGNED + OTHER_OPD\n",
    "for name in (NOT_PRESENT + RESIGNED + OTHER_OPD):\n",
    "    df.drop(df[df.loc[:,'Name'] == name].index, inplace = True)\n",
    "\n",
    "print(\"Resigned :{}\".format(RESIGNED), \"Not_preset :{}\".format(NOT_PRESENT), \"Other OPD: {}\".format(OTHER_OPD))\n",
    "print(\"There are {0} interns present, มีอินเทิร์นเหลือทั้งหมด {0} คน\".format(len(df)))\n",
    "df"
   ]
  },
  {
   "cell_type": "code",
   "execution_count": 12,
   "metadata": {
    "scrolled": true
   },
   "outputs": [
    {
     "name": "stdout",
     "output_type": "stream",
     "text": [
      "loading saves..\n",
      "searching for november_count ..retrieving data.. \n",
      "\n",
      "The number of shifts so far...นภสร..x..6..times\n",
      "The number of shifts so far...พิชชาภา..x..6..times\n",
      "The number of shifts so far...ชญานิศ..x..6..times\n",
      "The number of shifts so far...สรศักย์..x..6..times\n",
      "The number of shifts so far...อภิชญา..x..6..times\n",
      "The number of shifts so far...ณัฐชัย..x..6..times\n",
      "The number of shifts so far...ณิชารีย์..x..6..times\n",
      "The number of shifts so far...ภาสกร..x..6..times\n",
      "The number of shifts so far...บุญฤทธิ์..x..4..times\n",
      "The number of shifts so far...ภาณุวัฒน์..x..5..times\n",
      "The number of shifts so far...ณัชชา..x..6..times\n",
      "The number of shifts so far...นัทธมน..x..5..times\n",
      "The number of shifts so far...ณัฐภัสสร..x..6..times\n",
      "The number of shifts so far...เอนกโชค..x..6..times\n",
      "The number of shifts so far...ปภาวดี..x..6..times\n",
      "The number of shifts so far...ปารินทร์..x..5..times\n",
      "The number of shifts so far...พุฒิพงศ์..x..6..times\n",
      "The number of shifts so far...ปรียาภรณ์..x..1..times\n",
      "The number of shifts so far...ศิรวิชญ์..x..1..times\n",
      "The number of shifts so far...นภดล..x..1..times\n"
     ]
    }
   ],
   "source": [
    "import pickle\n",
    "def try_open_saves(month):\n",
    "    month_file = str(month).lower()+'_count'\n",
    "    print('searching for',month_file,'..retrieving data..','\\n')\n",
    "        \n",
    "    try:\n",
    "        with open(month_file, 'rb') as f:\n",
    "            old_dict = pickle.load(f)   \n",
    "            for key in old_dict:\n",
    "                print('The number of shifts so far...{}..x..{}..times'.format(key, old_dict[key]))\n",
    "    except:\n",
    "        old_dict = '{}'\n",
    "        print('No roster was made before, nothing to display - ยังไม่เคยมีการจัดเวรมาก่อน')\n",
    "    return old_dict\n",
    "\n",
    "print('loading saves..')\n",
    "old_dict = try_open_saves(PREVIOUS_SAVE)"
   ]
  },
  {
   "cell_type": "code",
   "execution_count": 13,
   "metadata": {
    "scrolled": false
   },
   "outputs": [
    {
     "name": "stdout",
     "output_type": "stream",
     "text": [
      "checking unavailable Interns...\n",
      "Not_preset :['ภาณุวัฒน์', 'ปรียาภรณ์'] Other OPD: []\n",
      "There are 17 interns present, Number of days to be filled = 15\n",
      "checking unavailable dates...\n",
      "The unavailable dates for ['สรศักย์'] are day [3, 10, 17, 24, 31]\n",
      "The unavailable dates for ['ภาณุวัฒน์'] are day [2, 9, 16, 23, 30]\n",
      "The unavailable dates for ['ศิรวิชญ์'] are day [7, 14, 21, 28, 3, 10, 17, 24, 31]\n",
      "The unavailable dates for ['ปรียาภรณ์'] are day [2, 9, 16, 23, 30, 4, 11, 18, 25]\n",
      "The unavailable dates for ['นภดล'] are day [1, 8, 15, 22, 29, 3, 10, 17, 24, 31]\n",
      "\n",
      "Initiating randomization..\n",
      "\n",
      "เวร OFM ธันวาคม\n",
      "\n",
      "\n",
      "Day..2..:.['Int2'] นภดล\n",
      "Day..3..:.['Int3'] บุญฤทธิ์\n",
      "Day..4..:.['Int2'] ณัฐชัย\n",
      "Day..7..:.['Int3'] นัทธมน\n",
      "Day..9..:.['Int2'] อภิชญา\n",
      "Day..14..:.['Int2'] ชญานิศ\n",
      "Day..16..:.['Int2'] ณิชารีย์\n",
      "Day..17..:.['Int3'] เอนกโชค\n",
      "Day..18..:.['Int3'] ณัชชา\n",
      "Day..21..:.['Int3'] ภาสกร\n",
      "Day..23..:.['Int2'] ปภาวดี\n",
      "Day..24..:.['Int2'] ปารินทร์\n",
      "Day..25..:.['Int3'] ศิรวิชญ์\n",
      "Day..28..:.['Int3'] ณัฐภัสสร\n",
      "Day..30..:.['Int2'] พิชชาภา\n"
     ]
    }
   ],
   "source": [
    "import time\n",
    "import sys\n",
    "import random\n",
    "\n",
    "class unavailable:\n",
    "    def __init__(self, UA_input, weekday, df=df, weekday_date=weekday_date):\n",
    "        # weekday could be str (eg.'monday') or be integer (eg. 28)   \n",
    "        if type(weekday) == str: \n",
    "            self.dates = [i.day for i in weekday_date[weekday]]\n",
    "        elif (type(weekday) == list)& (type(weekday[0])==str):\n",
    "            self.dates = []\n",
    "            for i in weekday:\n",
    "                a = [c.day for c in weekday_date[i]]\n",
    "                self.dates += a\n",
    "        else:\n",
    "            self.dates = weekday\n",
    "            \n",
    "        # UA_input could be  (subspecialty ('Fix')) or list of names\n",
    "        if UA_input in df.loc[:,'Fix'].unique():\n",
    "            self.names = [i for i in df[df.loc[:,'Fix'] == UA_input].Name]\n",
    "        else: \n",
    "            self.names = UA_input\n",
    "            \n",
    "        self.df = df\n",
    "        self.weekday_date = weekday_date\n",
    "        print ('The unavailable dates for {} are day {}'.format(self.names, self.dates))\n",
    "                \n",
    "    def UA_bool(self, random_date, random_winner):\n",
    "        # Will return False if the person is unavailable at a given date  \n",
    "        if (random_winner in self.names) and (random_date in self.dates):\n",
    "            return False\n",
    "        else:\n",
    "            return True\n",
    "        \n",
    "print('checking unavailable Interns...') \n",
    "print(\"Not_preset :{}\".format(NOT_PRESENT), \"Other OPD: {}\".format(OTHER_OPD))\n",
    "print(\"There are {0} interns present,\".format(len(df)),'Number of days to be filled = {}'.format(len(OFM_dates)))\n",
    "print('checking unavailable dates...')  \n",
    "\n",
    "var_list = []\n",
    "for n,(who,when) in enumerate(UNAVAILABLE):\n",
    "    var_name = \"who_\" + str(n)\n",
    "    vars()[var_name] = unavailable(who,when) #     declare var name with string \n",
    "    var_list.append(eval(var_name)) #     evaluate string as if it's a var\n",
    "    \n",
    "def evaluate_conditions(random_date,random_winner):\n",
    "    conditions = []\n",
    "    for i in var_list:\n",
    "        conditions.append(i.UA_bool(random_date,random_winner))\n",
    "    yield conditions                                                                     \n",
    "\n",
    "####### start randomization #######\n",
    "\n",
    "print('\\nInitiating randomization..')\n",
    "\"\"\"change every month\"\"\"\n",
    "print('\\nเวร OFM ' + Thai_dict[SAVE.lower()])\n",
    "\n",
    "count_dict= {}\n",
    "day_name_dict = {}\n",
    "start_time = time.time()\n",
    "seconds = 0\n",
    "repeat = None\n",
    "while len(day_name_dict) < len(OFM_dates):\n",
    "    for date in OFM_dates:\n",
    "        if (date.day not in day_name_dict.keys()):\n",
    "            random_winner = random.choice(df.loc[:,'Name'].values)\n",
    "            current_time = time.time()\n",
    "            elapsed_time = current_time - start_time\n",
    "            if (random_winner not in day_name_dict.values())and all(*evaluate_conditions(date.day,random_winner)):\n",
    "                day_name_dict[date.day] = random_winner\n",
    "                count_dict[random_winner] = 1\n",
    "        \n",
    "            elif elapsed_time > 0.5 and all(*evaluate_conditions(date.day,random_winner)):\n",
    "                \"\"\"FIX คนที่อยู่ 2 วัน, just comment it out, when not in use\"\"\"\n",
    "                # random_winner = random.choice( [\"นภสร\",\"ณัชชา\"])\n",
    "                \"\"\"\"\"\"\"\"\"\"\"\"\"\"\"\"\"\"\n",
    "                day_name_dict[date.day] = random_winner\n",
    "                count_dict[random_winner] += 1\n",
    "                name_day = {v: [k for k in day_name_dict if day_name_dict[k] == v] for v in set(day_name_dict.values())}\n",
    "                repeat = [i for i in name_day if len(name_day[i]) >= 2]\n",
    "                \n",
    "    \"\"\"restart if these names are not in the dictionary\"\"\"           \n",
    "    # if not(all(x in day_name_dict.values() for x in [\"นภดล\",'ศิรวิชญ์','ปรียาภรณ์'])):\n",
    "    # day_name_dict = {}\n",
    "\n",
    "if repeat != None:\n",
    "    print(\"\\n\",'คนที่โดนอยู่มากกว่า 1 วันได้แก่', \"\\n\")\n",
    "    for i in repeat:\n",
    "        print(\"{}..อยู่วันที่..{}\".format(i,sorted(name_day[i])))\n",
    "print(\"\\n\")\n",
    "\n",
    "import collections\n",
    "day_name_dict = collections.OrderedDict(sorted(day_name_dict.items(), key=lambda t: t[0])) # sort dictionary using ordered dict, and sort by key (t[0])\n",
    "\n",
    "for i in day_name_dict:\n",
    "    year = df[df.loc[:,'Name'] == day_name_dict[i]].Year.values\n",
    "    name = day_name_dict[i]\n",
    "    print('Day..{}..:.{} {}'.format(i,year, name))"
   ]
  },
  {
   "cell_type": "code",
   "execution_count": 14,
   "metadata": {
    "scrolled": false
   },
   "outputs": [
    {
     "name": "stdout",
     "output_type": "stream",
     "text": [
      "\n",
      " updating updated_dict \n",
      "\n",
      "The accumulated number of shifts so far..['Int2'] นภสร..x..6..times\n",
      "The accumulated number of shifts so far..['Int2'] พิชชาภา..x..7..times\n",
      "The accumulated number of shifts so far..['Int2'] ชญานิศ..x..7..times\n",
      "The accumulated number of shifts so far..['Int2'] สรศักย์..x..6..times\n",
      "The accumulated number of shifts so far..['Int2'] อภิชญา..x..7..times\n",
      "The accumulated number of shifts so far..['Int2'] ณัฐชัย..x..7..times\n",
      "The accumulated number of shifts so far..['Int2'] ณิชารีย์..x..7..times\n",
      "The accumulated number of shifts so far..['Int3'] ภาสกร..x..7..times\n",
      "The accumulated number of shifts so far..['Int3'] บุญฤทธิ์..x..5..times\n",
      "The accumulated number of shifts so far..['Int3'] ภาณุวัฒน์..x..5..times\n",
      "The accumulated number of shifts so far..['Int3'] ณัชชา..x..7..times\n",
      "The accumulated number of shifts so far..['Int3'] นัทธมน..x..6..times\n",
      "The accumulated number of shifts so far..['Int3'] ณัฐภัสสร..x..7..times\n",
      "The accumulated number of shifts so far..['Int3'] เอนกโชค..x..7..times\n",
      "The accumulated number of shifts so far..['Int2'] ปภาวดี..x..7..times\n",
      "The accumulated number of shifts so far..['Int2'] ปารินทร์..x..6..times\n",
      "The accumulated number of shifts so far..['Int3'] พุฒิพงศ์..x..6..times\n",
      "The accumulated number of shifts so far..['Int2'] ปรียาภรณ์..x..1..times\n",
      "The accumulated number of shifts so far..['Int3'] ศิรวิชญ์..x..2..times\n",
      "The accumulated number of shifts so far..['Int2'] นภดล..x..2..times\n"
     ]
    }
   ],
   "source": [
    "print('\\n updating updated_dict \\n')\n",
    "import copy\n",
    "updated_dict = copy.deepcopy(old_dict)\n",
    "if old_dict != {}:\n",
    "    for i in count_dict:\n",
    "        if i in updated_dict:\n",
    "            updated_dict[i]+= count_dict[i]\n",
    "        else:\n",
    "            updated_dict[i] = 0 \n",
    "            updated_dict[i]+= count_dict[i]\n",
    "elif old_dict == {}:\n",
    "    updated_dict = count_dict\n",
    "\n",
    "# print the counting in updated dict\n",
    "for key in updated_dict:\n",
    "    year = L_df[L_df.loc[:,'Name'] == key].Year.values\n",
    "    print('The accumulated number of shifts so far..{} {}..x..{}..times'.format(year,key, updated_dict[key]))"
   ]
  },
  {
   "cell_type": "markdown",
   "metadata": {},
   "source": [
    "### Define functions for saving, backup and reading the files"
   ]
  },
  {
   "cell_type": "code",
   "execution_count": 32,
   "metadata": {
    "scrolled": true
   },
   "outputs": [],
   "source": [
    "from os import path\n",
    "import shutil\n",
    "\n",
    "def save_file(file_name, dict):\n",
    "    with open(file_name, 'wb') as f:\n",
    "        pickle.dump(dict, f)\n",
    "        return 'succesfully rewrite file {}'.format(file_name)\n",
    "\n",
    "def backup(file_name):\n",
    "    if path.exists(file_name):\n",
    "        if path.exists(file_name+'_backup'):\n",
    "            print('backup already existed, will not overwrite file')\n",
    "        else:\n",
    "            print('file exists, creating backup:', file_name+'_backup')\n",
    "            shutil.copy(file_name, file_name+'_backup')\n",
    "    else:\n",
    "        print('file did not exist, will not create backup')\n",
    "    \n",
    "def read_count(file_name): \n",
    "    with open(file_name, 'rb') as f:\n",
    "        file = pickle.load(f)    \n",
    "        f.close()\n",
    "        for key in file:\n",
    "            print('The number of shifts so far...{} {}..x..{}..times'.format(L_df[L_df.loc[:,'Name'] == key].Year.values,key, file[key]))\n",
    "        \n",
    "def read_date(file_name):\n",
    "    with open(file_name, 'rb') as f:\n",
    "        file = pickle.load(f)    \n",
    "        f.close()\n",
    "        for key in file:\n",
    "            year = L_df[L_df.loc[:,'Name'] == file[key]].Year.values\n",
    "            print('Day..{}..:..{} {}'.format( key,year,file[key]))"
   ]
  },
  {
   "cell_type": "code",
   "execution_count": 33,
   "metadata": {
    "scrolled": true
   },
   "outputs": [
    {
     "name": "stdout",
     "output_type": "stream",
     "text": [
      "try saving _date file: december_date\n",
      "file did not exist, will not create backup\n",
      "success\n",
      "try saving _count file december_count\n",
      "file did not exist, will not create backup\n",
      "success\n",
      "\n",
      " reading december_date \n",
      "\n",
      "Day..2..:..['Int2'] นภดล\n",
      "Day..3..:..['Int3'] บุญฤทธิ์\n",
      "Day..4..:..['Int2'] ณัฐชัย\n",
      "Day..7..:..['Int3'] นัทธมน\n",
      "Day..9..:..['Int2'] อภิชญา\n",
      "Day..14..:..['Int2'] ชญานิศ\n",
      "Day..16..:..['Int2'] ณิชารีย์\n",
      "Day..17..:..['Int3'] เอนกโชค\n",
      "Day..18..:..['Int3'] ณัชชา\n",
      "Day..21..:..['Int3'] ภาสกร\n",
      "Day..23..:..['Int2'] ปภาวดี\n",
      "Day..24..:..['Int2'] ปารินทร์\n",
      "Day..25..:..['Int3'] ศิรวิชญ์\n",
      "Day..28..:..['Int3'] ณัฐภัสสร\n",
      "Day..30..:..['Int2'] พิชชาภา\n",
      "\n",
      " reading december_count \n",
      "\n",
      "The number of shifts so far...['Int2'] นภสร..x..6..times\n",
      "The number of shifts so far...['Int2'] พิชชาภา..x..7..times\n",
      "The number of shifts so far...['Int2'] ชญานิศ..x..7..times\n",
      "The number of shifts so far...['Int2'] สรศักย์..x..6..times\n",
      "The number of shifts so far...['Int2'] อภิชญา..x..7..times\n",
      "The number of shifts so far...['Int2'] ณัฐชัย..x..7..times\n",
      "The number of shifts so far...['Int2'] ณิชารีย์..x..7..times\n",
      "The number of shifts so far...['Int3'] ภาสกร..x..7..times\n",
      "The number of shifts so far...['Int3'] บุญฤทธิ์..x..5..times\n",
      "The number of shifts so far...['Int3'] ภาณุวัฒน์..x..5..times\n",
      "The number of shifts so far...['Int3'] ณัชชา..x..7..times\n",
      "The number of shifts so far...['Int3'] นัทธมน..x..6..times\n",
      "The number of shifts so far...['Int3'] ณัฐภัสสร..x..7..times\n",
      "The number of shifts so far...['Int3'] เอนกโชค..x..7..times\n",
      "The number of shifts so far...['Int2'] ปภาวดี..x..7..times\n",
      "The number of shifts so far...['Int2'] ปารินทร์..x..6..times\n",
      "The number of shifts so far...['Int3'] พุฒิพงศ์..x..6..times\n",
      "The number of shifts so far...['Int2'] ปรียาภรณ์..x..1..times\n",
      "The number of shifts so far...['Int3'] ศิรวิชญ์..x..2..times\n",
      "The number of shifts so far...['Int2'] นภดล..x..2..times\n"
     ]
    }
   ],
   "source": [
    "# save to 2 files(_date and _count) and create backup if intending to overwrite file\n",
    "# day_name_dict is currently orderred dict -> Change back to normal dict- else not readable\n",
    "def save_all(month):\n",
    "    date_file = str(month).lower() + '_date'\n",
    "    count_file = str(month).lower() + '_count'\n",
    "    try: \n",
    "        print('try saving _date file: {}'.format(date_file))\n",
    "        backup(date_file)\n",
    "        save_file(date_file, day_name_dict)\n",
    "        print('success')\n",
    "    except: \n",
    "        print('failed')\n",
    "        \n",
    "    try: \n",
    "        print('try saving _count file {}'.format(count_file))\n",
    "        backup(count_file)\n",
    "        save_file(count_file, updated_dict)\n",
    "        print('success')\n",
    "    except: \n",
    "        print('failed')\n",
    "\n",
    "#Read both the count and date files -- just enter the month\n",
    "def read_all(month):\n",
    "    date_file = str(month).lower() + '_date'\n",
    "    count_file = str(month).lower() + '_count'\n",
    "    print('\\n reading {} \\n'.format(date_file))\n",
    "    read_date(date_file)\n",
    "    print('\\n reading {} \\n'.format(count_file))\n",
    "    read_count(count_file)\n",
    "\n",
    "save_all(SAVE)\n",
    "read_all(SAVE)"
   ]
  },
  {
   "cell_type": "markdown",
   "metadata": {},
   "source": [
    "แก้ตารางด้วยตัวเองทีหลัง"
   ]
  },
  {
   "cell_type": "code",
   "execution_count": 29,
   "metadata": {
    "scrolled": true
   },
   "outputs": [],
   "source": [
    "##### edit roster manually #####\n",
    "# with open(str(\"November\").lower() + '_date', 'rb') as f:\n",
    "#     file = pickle.load(f)    \n",
    "#     f.close()\n",
    "# file"
   ]
  },
  {
   "cell_type": "code",
   "execution_count": 17,
   "metadata": {},
   "outputs": [],
   "source": [
    "# day_name_dict = dict([(2, 'พุฒิพงศ์'),\n",
    "#              (4, 'ณัชชา'),\n",
    "#              (5, 'นภสร'),\n",
    "#              (6, 'ชญานิศ'),\n",
    "#              (9, 'ณิชารีย์'),\n",
    "#              (11, 'อภิชญา'),\n",
    "#              (12, 'ณัฐชัย'),\n",
    "#              (13, 'ปภาวดี'),\n",
    "#              (16, 'นัทธมน'),\n",
    "#              (18, 'เอนกโชค'),\n",
    "#              (23, 'นภดล'),\n",
    "#              (25, 'ศิรวิชญ์'),\n",
    "#              (26, 'พิชชาภา'),\n",
    "#              (27, 'ปรียาภรณ์'),\n",
    "#              (30, 'ณัฐภัสสร')])\n",
    "# \n",
    "# try: \n",
    "#     save_file(str(\"November\").lower() + '_date', day_name_dict)\n",
    "#     print('success')\n",
    "#     read_date(str(\"November\").lower() + '_date')\n",
    "# except: \n",
    "#     print('failed')"
   ]
  },
  {
   "cell_type": "code",
   "execution_count": 30,
   "metadata": {},
   "outputs": [],
   "source": [
    "##### edit count file manually #####\n",
    "# with open(str(\"November\").lower() + '_count', 'rb') as f:\n",
    "#     file = pickle.load(f)    \n",
    "#     f.close()\n",
    "# file"
   ]
  },
  {
   "cell_type": "code",
   "execution_count": 31,
   "metadata": {},
   "outputs": [],
   "source": [
    "### เดือนที่แล้วพุฒิพงศ์อยู่แทนเอนกโชค ###\n",
    "# updated_dict[\"พุฒิพงศ์\"] += 1\n",
    "# updated_dict[\"เอนกโชค\"] -= 1\n",
    "# updated_dict\n",
    "# \n",
    "# try: \n",
    "#     save_file(str(\"November\").lower() + 'count', updated_dict)\n",
    "#     print('success')\n",
    "#     read_count(str(\"November\").lower() + '_count')\n",
    "# except: \n",
    "#     print('failed')"
   ]
  }
 ],
 "metadata": {
  "kernelspec": {
   "display_name": "Python 3",
   "language": "python",
   "name": "python3"
  },
  "language_info": {
   "codemirror_mode": {
    "name": "ipython",
    "version": 3
   },
   "file_extension": ".py",
   "mimetype": "text/x-python",
   "name": "python",
   "nbconvert_exporter": "python",
   "pygments_lexer": "ipython3",
   "version": "3.7.6"
  }
 },
 "nbformat": 4,
 "nbformat_minor": 2
}
